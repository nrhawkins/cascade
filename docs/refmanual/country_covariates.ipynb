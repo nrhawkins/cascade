{
 "cells": [
  {
   "cell_type": "code",
   "execution_count": 6,
   "metadata": {},
   "outputs": [
    {
     "ename": "ModuleNotFoundError",
     "evalue": "No module named 'cascade'",
     "output_type": "error",
     "traceback": [
      "\u001b[0;31m---------------------------------------------------------------------------\u001b[0m",
      "\u001b[0;31mModuleNotFoundError\u001b[0m                       Traceback (most recent call last)",
      "\u001b[0;32m<ipython-input-6-81de56d7620e>\u001b[0m in \u001b[0;36m<module>\u001b[0;34m\u001b[0m\n\u001b[0;32m----> 1\u001b[0;31m \u001b[0;32mfrom\u001b[0m \u001b[0mcascade\u001b[0m\u001b[0;34m.\u001b[0m\u001b[0mcore\u001b[0m\u001b[0;34m.\u001b[0m\u001b[0mdb\u001b[0m \u001b[0;32mimport\u001b[0m \u001b[0mcursor\u001b[0m\u001b[0;34m,\u001b[0m \u001b[0mconnection\u001b[0m\u001b[0;34m\u001b[0m\u001b[0m\n\u001b[0m\u001b[1;32m      2\u001b[0m \u001b[0;32mfrom\u001b[0m \u001b[0mcascade\u001b[0m\u001b[0;34m.\u001b[0m\u001b[0minput_data\u001b[0m\u001b[0;34m.\u001b[0m\u001b[0mdb\u001b[0m\u001b[0;34m.\u001b[0m\u001b[0mbundle\u001b[0m \u001b[0;32mimport\u001b[0m \u001b[0m_get_bundle_data\u001b[0m\u001b[0;34m\u001b[0m\u001b[0m\n\u001b[1;32m      3\u001b[0m \u001b[0;32mimport\u001b[0m \u001b[0mcascade\u001b[0m\u001b[0;34m.\u001b[0m\u001b[0mtesting_utilities\u001b[0m\u001b[0;34m\u001b[0m\u001b[0m\n\u001b[1;32m      4\u001b[0m \u001b[0;32mfrom\u001b[0m \u001b[0mcascade\u001b[0m\u001b[0;34m.\u001b[0m\u001b[0minput_data\u001b[0m\u001b[0;34m.\u001b[0m\u001b[0mconfiguration\u001b[0m\u001b[0;34m.\u001b[0m\u001b[0mbuilder\u001b[0m \u001b[0;32mimport\u001b[0m \u001b[0massign_interpolated_covariate_values\u001b[0m\u001b[0;34m\u001b[0m\u001b[0m\n",
      "\u001b[0;31mModuleNotFoundError\u001b[0m: No module named 'cascade'"
     ]
    }
   ],
   "source": [
    "from cascade.core.db import cursor, connection\n",
    "from cascade.input_data.db.bundle import _get_bundle_data\n",
    "import cascade.testing_utilities\n",
    "from cascade.input_data.configuration.builder import assign_interpolated_covariate_values"
   ]
  },
  {
   "cell_type": "code",
   "execution_count": 2,
   "metadata": {},
   "outputs": [
    {
     "ename": "NameError",
     "evalue": "name 'make_execution_context' is not defined",
     "output_type": "error",
     "traceback": [
      "\u001b[0;31m---------------------------------------------------------------------------\u001b[0m",
      "\u001b[0;31mNameError\u001b[0m                                 Traceback (most recent call last)",
      "\u001b[0;32m<ipython-input-2-67d5e7b89d89>\u001b[0m in \u001b[0;36m<module>\u001b[0;34m\u001b[0m\n\u001b[0;32m----> 1\u001b[0;31m \u001b[0mexecution_context\u001b[0m \u001b[0;34m=\u001b[0m \u001b[0mmake_execution_context\u001b[0m\u001b[0;34m(\u001b[0m\u001b[0;34m)\u001b[0m\u001b[0;34m\u001b[0m\u001b[0m\n\u001b[0m",
      "\u001b[0;31mNameError\u001b[0m: name 'make_execution_context' is not defined"
     ]
    }
   ],
   "source": [
    "execution_context = make_execution_context()"
   ]
  },
  {
   "cell_type": "code",
   "execution_count": 3,
   "metadata": {},
   "outputs": [
    {
     "ename": "NameError",
     "evalue": "name '_get_bundle_data' is not defined",
     "output_type": "error",
     "traceback": [
      "\u001b[0;31m---------------------------------------------------------------------------\u001b[0m",
      "\u001b[0;31mNameError\u001b[0m                                 Traceback (most recent call last)",
      "\u001b[0;32m<ipython-input-3-cede04c46f28>\u001b[0m in \u001b[0;36m<module>\u001b[0;34m\u001b[0m\n\u001b[1;32m      1\u001b[0m \u001b[0mbundle_id\u001b[0m \u001b[0;34m=\u001b[0m \u001b[0;36m173\u001b[0m\u001b[0;34m\u001b[0m\u001b[0m\n\u001b[0;32m----> 2\u001b[0;31m \u001b[0mmeasurements\u001b[0m \u001b[0;34m=\u001b[0m \u001b[0m_get_bundle_data\u001b[0m\u001b[0;34m(\u001b[0m\u001b[0mexecution_context\u001b[0m\u001b[0;34m,\u001b[0m \u001b[0mbundle_id\u001b[0m\u001b[0;34m,\u001b[0m \u001b[0mtier\u001b[0m\u001b[0;34m=\u001b[0m\u001b[0;36m3\u001b[0m\u001b[0;34m)\u001b[0m\u001b[0;34m\u001b[0m\u001b[0m\n\u001b[0m",
      "\u001b[0;31mNameError\u001b[0m: name '_get_bundle_data' is not defined"
     ]
    }
   ],
   "source": [
    "bundle_id = 173\n",
    "measurements = _get_bundle_data(execution_context, bundle_id, tier=3)"
   ]
  },
  {
   "cell_type": "code",
   "execution_count": 4,
   "metadata": {},
   "outputs": [
    {
     "ename": "NameError",
     "evalue": "name 'demographics_default' is not defined",
     "output_type": "error",
     "traceback": [
      "\u001b[0;31m---------------------------------------------------------------------------\u001b[0m",
      "\u001b[0;31mNameError\u001b[0m                                 Traceback (most recent call last)",
      "\u001b[0;32m<ipython-input-4-97b05eeae546>\u001b[0m in \u001b[0;36m<module>\u001b[0;34m\u001b[0m\n\u001b[1;32m      6\u001b[0m         \u001b[0;36m12\u001b[0m\u001b[0;34m,\u001b[0m \u001b[0;36m13\u001b[0m\u001b[0;34m,\u001b[0m \u001b[0;36m14\u001b[0m\u001b[0;34m,\u001b[0m \u001b[0;36m15\u001b[0m\u001b[0;34m,\u001b[0m \u001b[0;36m16\u001b[0m\u001b[0;34m,\u001b[0m\u001b[0;34m\u001b[0m\u001b[0m\n\u001b[1;32m      7\u001b[0m         \u001b[0;36m17\u001b[0m\u001b[0;34m,\u001b[0m \u001b[0;36m18\u001b[0m\u001b[0;34m,\u001b[0m \u001b[0;36m19\u001b[0m\u001b[0;34m,\u001b[0m \u001b[0;36m20\u001b[0m\u001b[0;34m,\u001b[0m \u001b[0;36m30\u001b[0m\u001b[0;34m,\u001b[0m\u001b[0;34m\u001b[0m\u001b[0m\n\u001b[0;32m----> 8\u001b[0;31m         31, 32, 235, 27]\n\u001b[0m\u001b[1;32m      9\u001b[0m demographics_default[\"year_ids\"] = [\n\u001b[1;32m     10\u001b[0m         \u001b[0;36m1980\u001b[0m\u001b[0;34m,\u001b[0m \u001b[0;36m1981\u001b[0m\u001b[0;34m,\u001b[0m \u001b[0;36m1982\u001b[0m\u001b[0;34m,\u001b[0m \u001b[0;36m1983\u001b[0m\u001b[0;34m,\u001b[0m \u001b[0;36m1984\u001b[0m\u001b[0;34m,\u001b[0m \u001b[0;36m1985\u001b[0m\u001b[0;34m,\u001b[0m \u001b[0;36m1986\u001b[0m\u001b[0;34m,\u001b[0m \u001b[0;36m1987\u001b[0m\u001b[0;34m,\u001b[0m \u001b[0;36m1988\u001b[0m\u001b[0;34m,\u001b[0m \u001b[0;36m1989\u001b[0m\u001b[0;34m,\u001b[0m\u001b[0;34m\u001b[0m\u001b[0m\n",
      "\u001b[0;31mNameError\u001b[0m: name 'demographics_default' is not defined"
     ]
    }
   ],
   "source": [
    "covariate_id = 2\n",
    "demographics = {}\n",
    "demographics_default[\"age_group_ids\"] = [\n",
    "        2, 3, 4, 5, 6,\n",
    "        7, 8, 9, 10, 11,\n",
    "        12, 13, 14, 15, 16,\n",
    "        17, 18, 19, 20, 30,\n",
    "        31, 32, 235, 27]\n",
    "demographics_default[\"year_ids\"] = [\n",
    "        1980, 1981, 1982, 1983, 1984, 1985, 1986, 1987, 1988, 1989,\n",
    "        1990, 1991, 1992, 1993, 1994, 1995, 1996, 1997, 1998, 1999,\n",
    "        2000, 2001, 2002, 2003, 2004, 2005, 2006, 2007, 2008, 2009,\n",
    "        2010, 2011, 2012, 2013, 2014, 2015, 2016, 2017, 1950, 1951,\n",
    "        1952, 1953, 1954, 1955, 1956, 1957, 1958, 1959, 1960, 1961,\n",
    "        1962, 1963, 1964, 1965, 1966, 1967, 1968, 1969, 1970, 1971,\n",
    "        1972, 1973, 1974, 1975, 1976, 1977, 1978, 1979]\n",
    "demographics_default[\"sex_ids\"] = [1, 2]\n",
    "demographics_default[\"location_ids\"] = [102]\n",
    "gbd_round_id = 5\n",
    "covariates = country_covariates(covariate_id, demographics, gbd_round_id)"
   ]
  },
  {
   "cell_type": "code",
   "execution_count": 5,
   "metadata": {},
   "outputs": [
    {
     "ename": "NameError",
     "evalue": "name 'assign_interpolated_covariate_values' is not defined",
     "output_type": "error",
     "traceback": [
      "\u001b[0;31m---------------------------------------------------------------------------\u001b[0m",
      "\u001b[0;31mNameError\u001b[0m                                 Traceback (most recent call last)",
      "\u001b[0;32m<ipython-input-5-5652ba53250d>\u001b[0m in \u001b[0;36m<module>\u001b[0;34m\u001b[0m\n\u001b[0;32m----> 1\u001b[0;31m \u001b[0mcovariate_column\u001b[0m \u001b[0;34m=\u001b[0m \u001b[0massign_interpolated_covariate_values\u001b[0m\u001b[0;34m(\u001b[0m\u001b[0mmeasurements\u001b[0m\u001b[0;34m,\u001b[0m \u001b[0mcovariates\u001b[0m\u001b[0;34m)\u001b[0m\u001b[0;34m\u001b[0m\u001b[0m\n\u001b[0m",
      "\u001b[0;31mNameError\u001b[0m: name 'assign_interpolated_covariate_values' is not defined"
     ]
    }
   ],
   "source": [
    "covariate_column = assign_interpolated_covariate_values(measurements, covariates)"
   ]
  },
  {
   "cell_type": "code",
   "execution_count": null,
   "metadata": {},
   "outputs": [],
   "source": []
  }
 ],
 "metadata": {
  "kernelspec": {
   "display_name": "Python 3",
   "language": "python",
   "name": "python3"
  },
  "language_info": {
   "codemirror_mode": {
    "name": "ipython",
    "version": 3
   },
   "file_extension": ".py",
   "mimetype": "text/x-python",
   "name": "python",
   "nbconvert_exporter": "python",
   "pygments_lexer": "ipython3",
   "version": "3.6.3"
  }
 },
 "nbformat": 4,
 "nbformat_minor": 2
}
