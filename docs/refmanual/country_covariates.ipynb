{
 "cells": [
  {
   "cell_type": "markdown",
   "metadata": {},
   "source": [
    "# Assigning Country Covariate Values To Measurements"
   ]
  },
  {
   "cell_type": "markdown",
   "metadata": {},
   "source": [
    "## The Covariates"
   ]
  },
  {
   "cell_type": "code",
   "execution_count": 120,
   "metadata": {},
   "outputs": [
    {
     "name": "stdout",
     "output_type": "stream",
     "text": [
      "Index(['covariate_id', 'covariate_name_short', 'covariate_name',\n",
      "       'covariate_lancet_label', 'requested_by', 'covariate_description',\n",
      "       'group_display', 'by_age', 'by_sex', 'dichotomous', 'inactive',\n",
      "       'covariate_type_id', 'start_date', 'end_date', 'date_inserted',\n",
      "       'last_updated', 'last_updated_by', 'last_updated_action'],\n",
      "      dtype='object')\n",
      "\n",
      "(1191, 18)\n"
     ]
    }
   ],
   "source": [
    "from db_tools.ezfuncs import query\n",
    "df = query(\"select * from shared.covariate\", conn_def=\"dismod-at-dev\")\n",
    "print(df.columns)\n",
    "print()\n",
    "print(df.shape)"
   ]
  },
  {
   "cell_type": "code",
   "execution_count": 119,
   "metadata": {},
   "outputs": [
    {
     "name": "stdout",
     "output_type": "stream",
     "text": [
      "Number of active covariates: 662\n",
      "\n",
      "Types of Active Covariates\n",
      "\n",
      "not_by_age_not_by_sex: 277\n",
      "not_by_age but by_sex: 203\n",
      "not_by_sex but by_age: 8\n",
      "by_age and by_sex: 174\n",
      "\n",
      "Number of active dichotomous covariates: 7\n",
      "\n",
      "Active dichotomous covariates \n",
      "\n",
      " H5N1_epidemic_yrs_bin\n",
      "cv_je_bin\n",
      "fortification_standard\n",
      "fortification_standard_FA\n",
      "fortification_standard_iron\n",
      "censuses\n",
      "nash_definition\n"
     ]
    }
   ],
   "source": [
    "df_active = df[df[\"inactive\"] == 0]\n",
    "print(f\"Number of active covariates: {len(df_active)}\")\n",
    "print()\n",
    "print(\"Types of Active Covariates\")\n",
    "print()\n",
    "not_by_age_not_by_sex = len(df_active[(df_active[\"by_age\"] == 0) & (df_active[\"by_sex\"] == 0)])\n",
    "print(f\"not_by_age_not_by_sex: {not_by_age_not_by_sex}\")\n",
    "not_by_age_but_by_sex = len(df_active[(df_active[\"by_age\"] == 0) & (df_active[\"by_sex\"] == 1)])\n",
    "print(f\"not_by_age but by_sex: {not_by_age_but_by_sex}\")\n",
    "not_by_sex_but_by_age = len(df_active[(df_active[\"by_age\"] == 1) & (df_active[\"by_sex\"] == 0)])\n",
    "print(f\"not_by_sex but by_age: {not_by_sex_but_by_age}\")\n",
    "by_age_and_by_sex = len(df_active[(df_active[\"by_age\"] == 1) & (df_active[\"by_sex\"] == 1)])\n",
    "print(f\"by_age and by_sex: {by_age_and_by_sex}\")\n",
    "print()\n",
    "df_dichot = df_active[df_active[\"dichotomous\"]==1]\n",
    "print(f\"Number of active dichotomous covariates: {len(df_dichot)}\")\n",
    "print()\n",
    "covs_dichot = ('\\n').join(df_dichot['covariate_name_short'].tolist())\n",
    "print(f\"Active dichotomous covariates \\n\\n {covs_dichot}\")"
   ]
  },
  {
   "cell_type": "markdown",
   "metadata": {},
   "source": [
    "## The Algorithms"
   ]
  },
  {
   "cell_type": "markdown",
   "metadata": {},
   "source": [
    "### Algorithm 1: kdtree based on 3 dimensions - age, time, and sex"
   ]
  },
  {
   "cell_type": "markdown",
   "metadata": {},
   "source": [
    "### Algorithm 2: interpolation grid by sex, with age and time dimensions\n",
    "\n",
    "Linear interpolation is used to determine a covariate value over an age and time grid \n",
    "specified by the mid-points of the age and time intervals in the covariate data.  \n"
   ]
  },
  {
   "cell_type": "markdown",
   "metadata": {},
   "source": [
    "### Algorithm 3:  population-weighted interpolation grid by sex, with age and time dimensions"
   ]
  },
  {
   "cell_type": "markdown",
   "metadata": {},
   "source": [
    "## Load the Data"
   ]
  },
  {
   "cell_type": "code",
   "execution_count": 16,
   "metadata": {},
   "outputs": [],
   "source": [
    "# imports\n",
    "from cascade.input_data.db.bundle import _get_bundle_data\n",
    "from cascade.testing_utilities import make_execution_context\n",
    "from cascade.input_data.configuration.builder import (\n",
    "    assign_interpolated_covariate_values, get_all_age_spans, convert_gbd_ids_to_dismod_values)\n",
    "from cascade.input_data.db.ccov import country_covariates"
   ]
  },
  {
   "cell_type": "code",
   "execution_count": 121,
   "metadata": {},
   "outputs": [],
   "source": [
    "# create execution context\n",
    "execution_context = make_execution_context()\n",
    "execution_context.parameters.gbd_round_id = 5"
   ]
  },
  {
   "cell_type": "code",
   "execution_count": 130,
   "metadata": {},
   "outputs": [
    {
     "name": "stdout",
     "output_type": "stream",
     "text": [
      "measurement bundle 173, tier 3\n",
      "\n",
      "measurements columns \n",
      "Index(['bundle_id', 'seq', 'request_id', 'input_type_id', 'nid',\n",
      "       'underlying_nid', 'location_id', 'sex_id', 'year_start', 'year_end',\n",
      "       'age_start', 'age_end', 'measure_id', 'source_type_id',\n",
      "       'sampling_type_id', 'representative_id', 'urbanicity_type_id',\n",
      "       'recall_type_id', 'recall_type_value', 'unit_type_id',\n",
      "       'unit_value_as_published', 'uncertainty_type_id',\n",
      "       'uncertainty_type_value', 'mean', 'lower', 'upper', 'standard_error',\n",
      "       'effective_sample_size', 'sample_size', 'cases', 'design_effect',\n",
      "       'outlier_type_id', 'x_sex', 'age_lower', 'age_upper', 'time_lower',\n",
      "       'time_upper', 'avg_age', 'avg_time'],\n",
      "      dtype='object')\n",
      "\n",
      "(275800, 39)\n",
      "\n",
      "measure ids\n",
      "[ 5 11 13  6]\n",
      "\n",
      "measurements avg_time\n",
      "[1965.0, 1968.5, 1970.0, 1971.5, 1975.0, 1978.0, 1979.0, 1980.0, 1981.0, 1981.5, 1982.0, 1982.5, 1983.0, 1983.5, 1984.0, 1984.5, 1985.0, 1985.5, 1986.0, 1986.5, 1987.0, 1987.5, 1988.0, 1988.5, 1989.0, 1989.5, 1990.0, 1990.5, 1991.0, 1991.5, 1992.0, 1992.5, 1993.0, 1993.5, 1994.0, 1994.5, 1995.0, 1995.5, 1996.0, 1996.5, 1997.0, 1997.5, 1998.0, 1998.5, 1999.0, 1999.5, 2000.0, 2000.5, 2001.0, 2001.5, 2002.0, 2002.5, 2003.0, 2003.5, 2004.0, 2004.5, 2005.0, 2005.5, 2006.0, 2006.5, 2007.0, 2007.5, 2008.0, 2008.5, 2009.0, 2009.5, 2010.0, 2010.5, 2011.0, 2011.5, 2012.0, 2012.5, 2013.0, 2013.5, 2014.0, 2014.5, 2015.0, 2016.0, 2016.5]\n",
      "\n",
      "measurements avg_age\n",
      "[0.0, 0.4995, 0.5, 1.0, 2.0, 2.5, 3.0, 4.0, 4.5, 5.0, 5.5, 6.0, 6.5, 7.0, 7.5, 8.0, 8.5, 9.0, 9.5, 10.0, 11.0, 11.5, 12.0, 12.5, 13.0, 14.0, 14.5, 15.0, 15.5, 16.0, 16.5, 17.0, 17.5, 18.5, 19.5, 20.0, 21.0, 21.5, 22.0, 22.5, 23.5, 24.0, 24.5, 25.0, 25.5, 26.0, 26.5, 27.0, 27.5, 28.0, 28.5, 29.0, 29.5, 30.0, 30.5, 31.0, 31.5, 32.0, 32.5, 33.5, 34.5, 35.0, 35.5, 36.5, 37.0, 37.5, 38.0, 38.5, 39.0, 39.5, 40.0, 40.5, 41.0, 41.5, 42.0, 42.5, 43.5, 44.5, 45.0, 45.5, 46.0, 46.5, 47.0, 47.5, 48.0, 48.5, 49.0, 49.5, 50.0, 50.5, 51.0, 51.5, 52.0, 52.5, 53.0, 54.0, 54.5, 55.0, 55.5, 56.0, 56.5, 57.0, 57.5, 58.5, 59.0, 59.5, 60.0, 60.5, 61.0, 61.5, 62.0, 62.5, 63.0, 63.5, 64.5, 65.0, 65.5, 67.0, 67.5, 68.0, 68.5, 69.5, 70.0, 70.5, 71.5, 72.0, 72.5, 73.0, 74.0, 74.5, 75.0, 75.5, 76.5, 77.0, 77.5, 79.5, 80.0, 80.5, 82.0, 82.5, 84.0, 84.5, 85.0, 85.5, 86.0, 86.5, 87.0, 87.5, 89.5, 90.0, 92.0, 92.5, 94.5, 95.0, 97.0, 97.5, 98.5, 99.5, 109.5]\n",
      "\n",
      "measurements subset: sex 'both' and prevalence\n",
      "(3017, 39)\n",
      "\n",
      "avg_time\n",
      "[1980.0, 1983.0, 1985.0, 1987.0, 1989.0, 1991.5, 1992.0, 1992.5, 1993.5, 1995.0, 1995.5, 1996.0, 1996.5, 1997.0, 1998.0, 1998.5, 1999.0, 1999.5, 2000.0, 2000.5, 2001.0, 2001.5, 2002.0, 2002.5, 2003.0, 2003.5, 2004.0, 2004.5, 2005.0, 2005.5, 2006.0, 2006.5, 2007.0, 2007.5, 2008.0, 2008.5, 2009.0, 2009.5, 2010.0, 2010.5, 2011.0, 2011.5, 2012.0, 2012.5, 2013.0, 2013.5, 2014.0, 2015.0]\n",
      "\n",
      "avg_age\n",
      "[3.0, 5.5, 7.0, 9.5, 11.0, 12.5, 14.5, 15.0, 17.0, 17.5, 18.5, 19.5, 21.0, 21.5, 22.0, 23.5, 24.5, 25.5, 26.0, 26.5, 27.0, 28.0, 28.5, 29.5, 30.0, 31.0, 32.0, 32.5, 34.5, 35.0, 35.5, 37.0, 39.5, 40.5, 41.5, 42.0, 43.5, 44.5, 45.5, 46.0, 46.5, 47.0, 47.5, 48.5, 49.0, 49.5, 50.0, 50.5, 51.5, 52.0, 52.5, 53.0, 54.5, 55.0, 55.5, 56.0, 57.0, 57.5, 58.5, 59.0, 59.5, 60.0, 60.5, 61.0, 61.5, 62.0, 62.5, 63.0, 64.5, 65.5, 67.0, 69.5, 70.0, 70.5, 72.0, 74.5, 75.0, 76.5, 77.0, 79.5, 80.0, 82.0, 84.0, 84.5, 85.5, 87.0, 89.5, 95.0, 98.5]\n",
      "\n"
     ]
    }
   ],
   "source": [
    "# measurements - diabetes\n",
    "bundle_id = 173\n",
    "tier = 3\n",
    "print(f\"measurement bundle {bundle_id}, tier {tier}\")\n",
    "print()\n",
    "measurements = _get_bundle_data(execution_context, bundle_id)\n",
    "\n",
    "measurements[\"x_sex\"] = measurements[\"sex_id\"].replace([1,2,3],[0.5,-0.5,0])\n",
    "\n",
    "measurements[\"age_lower\"] = measurements[\"age_start\"]\n",
    "measurements[\"age_upper\"] = measurements[\"age_end\"]\n",
    "\n",
    "measurements[\"time_lower\"] = measurements[\"year_start\"]\n",
    "measurements[\"time_upper\"] = measurements[\"year_end\"]\n",
    "\n",
    "measurements[\"avg_age\"] = measurements[[\"age_lower\", \"age_upper\"]].mean(axis=1)\n",
    "measurements[\"avg_time\"] = measurements[[\"time_lower\", \"time_upper\"]].mean(axis=1)\n",
    "\n",
    "print(f\"measurements columns \\n{measurements.columns}\")\n",
    "print()\n",
    "print(measurements.shape)\n",
    "print()\n",
    "\n",
    "# measure_id's: 5=prevalence, 6=incidence, 11=relrisk, 13=mtwith\n",
    "print(\"measure ids\")\n",
    "print(measurements[\"measure_id\"].unique())\n",
    "print()\n",
    "\n",
    "tm = measurements[\"avg_time\"].unique()\n",
    "tml = tm.tolist()\n",
    "tml.sort()\n",
    "print(\"measurements avg_time\")\n",
    "print(tml)      \n",
    "print()\n",
    "\n",
    "am = measurements[\"avg_age\"].unique()\n",
    "aml = am.tolist()\n",
    "aml.sort()\n",
    "print(\"measurements avg_age\")\n",
    "print(aml)\n",
    "print()\n"
   ]
  },
  {
   "cell_type": "code",
   "execution_count": 149,
   "metadata": {},
   "outputs": [
    {
     "name": "stdout",
     "output_type": "stream",
     "text": [
      "covariate cum_cigs_20_yr, covariate_id = 26\n",
      "\n",
      "covariates columns Index(['covariate_id', 'covariate_name_short', 'location_id', 'age_group_id',\n",
      "       'year_id', 'sex_id', 'mean_value'],\n",
      "      dtype='object')\n",
      "\n",
      "covariates shape: (1748, 7)\n",
      "\n",
      "covariates age_group_ids: [  2   3   4   5   6   7   8   9  10  11  12  13  14  15  16  17  18  19\n",
      "  20  30  31  32 235]\n",
      "\n",
      "age groups\n",
      "Index(['age_group_id', 'age_group_years_start', 'age_group_years_end'], dtype='object')\n",
      "(391, 3)\n",
      "\n",
      "ccov_ranges_df columns \n",
      " Index(['index', 'covariate_id', 'covariate_name_short', 'location_id',\n",
      "       'sex_id', 'mean_value', 'age_lower', 'age_upper', 'x_sex', 'time_lower',\n",
      "       'time_upper'],\n",
      "      dtype='object')\n",
      "\n",
      "ccov_ranges_df shape: (1748, 11)\n",
      "\n",
      "unique x_sex values\n",
      "[ 0.5 -0.5]\n",
      "\n",
      "Covariates avg_time\n",
      "[1980.5 1981.5 1982.5 1983.5 1984.5 1985.5 1986.5 1987.5 1988.5 1989.5\n",
      " 1990.5 1991.5 1992.5 1993.5 1994.5 1995.5 1996.5 1997.5 1998.5 1999.5\n",
      " 2000.5 2001.5 2002.5 2003.5 2004.5 2005.5 2006.5 2007.5 2008.5 2009.5\n",
      " 2010.5 2011.5 2012.5 2013.5 2014.5 2015.5 2016.5 2017.5]\n",
      "\n",
      "Covariates time_lower\n",
      "[1980 1981 1982 1983 1984 1985 1986 1987 1988 1989 1990 1991 1992 1993\n",
      " 1994 1995 1996 1997 1998 1999 2000 2001 2002 2003 2004 2005 2006 2007\n",
      " 2008 2009 2010 2011 2012 2013 2014 2015 2016 2017]\n",
      "\n",
      "Covariates time_upper\n",
      "[1981 1982 1983 1984 1985 1986 1987 1988 1989 1990 1991 1992 1993 1994\n",
      " 1995 1996 1997 1998 1999 2000 2001 2002 2003 2004 2005 2006 2007 2008\n",
      " 2009 2010 2011 2012 2013 2014 2015 2016 2017 2018]\n",
      "\n",
      "Covariates avg_age \n",
      " [0.00958904, 0.047945205, 0.5383561649999999, 3.0, 7.5, 12.5, 17.5, 22.5, 27.5, 32.5, 37.5, 42.5, 47.5, 52.5, 57.5, 62.5, 67.5, 72.5, 77.5, 82.5, 87.5, 92.5, 110.0]\n",
      "\n",
      "ccov_ranges_df_2003.5 shape: (46, 13)\n",
      "ccov_ranges_df_2002.5 shape: (46, 13)\n"
     ]
    }
   ],
   "source": [
    "# covariates - cum cigs 20 yr\n",
    "\n",
    "covariate_id = 26\n",
    "location_id = 102\n",
    "demographics = dict(\n",
    "            age_group_ids=\"all\", year_ids=\"all\", sex_ids=\"all\", location_ids=[location_id]\n",
    "        )\n",
    "covariates = country_covariates(covariate_id, demographics, execution_context.parameters.gbd_round_id)\n",
    "\n",
    "covariate_name = covariates.iloc[0][\"covariate_name_short\"]\n",
    "print(f\"covariate {covariate_name}, covariate_id = {covariate_id}\")\n",
    "print()\n",
    "\n",
    "print(f\"covariates columns {covariates.columns}\")\n",
    "print()      \n",
    "print(f\"covariates shape: {covariates.shape}\")\n",
    "print()\n",
    "print(f\"covariates age_group_ids: {covariates['age_group_id'].unique()}\")\n",
    "print()\n",
    "\n",
    "age_groups = get_all_age_spans(execution_context)\n",
    "print(\"age groups\")\n",
    "print(age_groups.columns)\n",
    "print(age_groups.shape)\n",
    "print()\n",
    "\n",
    "# add age start and end cols      \n",
    "ccov_ranges_df = convert_gbd_ids_to_dismod_values(covariates, age_groups)\n",
    "\n",
    "print(f\"ccov_ranges_df columns \\n {ccov_ranges_df.columns}\")\n",
    "print()\n",
    "print(f\"ccov_ranges_df shape: {ccov_ranges_df.shape}\")\n",
    "print()\n",
    "\n",
    "print(\"unique x_sex values\")\n",
    "print(ccov_ranges_df[\"x_sex\"].unique())\n",
    "print()\n",
    "\n",
    "ccov_ranges_df[\"avg_time\"] = ccov_ranges_df[[\"time_lower\", \"time_upper\"]].mean(axis=1)\n",
    "print(\"Covariates avg_time\")\n",
    "print(ccov_ranges_df[\"avg_time\"].unique())\n",
    "print()\n",
    "print(\"Covariates time_lower\")\n",
    "print(ccov_ranges_df[\"time_lower\"].unique())\n",
    "print()\n",
    "print(\"Covariates time_upper\")\n",
    "print(ccov_ranges_df[\"time_upper\"].unique())\n",
    "print()\n",
    "\n",
    "ccov_ranges_df[\"avg_age\"] = ccov_ranges_df[[\"age_lower\", \"age_upper\"]].mean(axis=1)      \n",
    "      \n",
    "ac = ccov_ranges_df[\"avg_age\"].unique()\n",
    "acl = ac.tolist()\n",
    "acl.sort()\n",
    "print(f\"Covariates avg_age \\n {acl}\")\n",
    "print()\n",
    "      \n",
    "ccov_ranges_df_2003 = ccov_ranges_df[ccov_ranges_df[\"avg_time\"] == 2003.5]\n",
    "print(f\"ccov_ranges_df_2003.5 shape: {ccov_ranges_df_2003.shape}\")\n",
    "ccov_ranges_df_2002 = ccov_ranges_df[ccov_ranges_df[\"avg_time\"] == 2002.5]\n",
    "print(f\"ccov_ranges_df_2002.5 shape: {ccov_ranges_df_2002.shape}\")"
   ]
  },
  {
   "cell_type": "code",
   "execution_count": 146,
   "metadata": {},
   "outputs": [
    {
     "name": "stdout",
     "output_type": "stream",
     "text": [
      "covariate_column shape \n",
      " (275800,)\n",
      "\n"
     ]
    }
   ],
   "source": [
    "# Compute Assigned Covariate Value\n",
    "\n",
    "covariate_column = assign_interpolated_covariate_values(measurements, ccov_ranges_df)\n",
    "measurements[\"covariate_col\"] = covariate_column\n",
    "\n",
    "print(f\"covariate_column shape \\n {covariate_column.shape}\")\n",
    "print()"
   ]
  },
  {
   "cell_type": "code",
   "execution_count": 163,
   "metadata": {},
   "outputs": [
    {
     "name": "stdout",
     "output_type": "stream",
     "text": [
      "measurements subset: sex 'both' and prevalence\n",
      "(3017, 40)\n",
      "\n",
      "avg_time\n",
      "[1980.0, 1983.0, 1985.0, 1987.0, 1989.0, 1991.5, 1992.0, 1992.5, 1993.5, 1995.0, 1995.5, 1996.0, 1996.5, 1997.0, 1998.0, 1998.5, 1999.0, 1999.5, 2000.0, 2000.5, 2001.0, 2001.5, 2002.0, 2002.5, 2003.0, 2003.5, 2004.0, 2004.5, 2005.0, 2005.5, 2006.0, 2006.5, 2007.0, 2007.5, 2008.0, 2008.5, 2009.0, 2009.5, 2010.0, 2010.5, 2011.0, 2011.5, 2012.0, 2012.5, 2013.0, 2013.5, 2014.0, 2015.0]\n",
      "\n",
      "avg_age\n",
      "[3.0, 5.5, 7.0, 9.5, 11.0, 12.5, 14.5, 15.0, 17.0, 17.5, 18.5, 19.5, 21.0, 21.5, 22.0, 23.5, 24.5, 25.5, 26.0, 26.5, 27.0, 28.0, 28.5, 29.5, 30.0, 31.0, 32.0, 32.5, 34.5, 35.0, 35.5, 37.0, 39.5, 40.5, 41.5, 42.0, 43.5, 44.5, 45.5, 46.0, 46.5, 47.0, 47.5, 48.5, 49.0, 49.5, 50.0, 50.5, 51.5, 52.0, 52.5, 53.0, 54.5, 55.0, 55.5, 56.0, 57.0, 57.5, 58.5, 59.0, 59.5, 60.0, 60.5, 61.0, 61.5, 62.0, 62.5, 63.0, 64.5, 65.5, 67.0, 69.5, 70.0, 70.5, 72.0, 74.5, 75.0, 76.5, 77.0, 79.5, 80.0, 82.0, 84.0, 84.5, 85.5, 87.0, 89.5, 95.0, 98.5]\n",
      "\n"
     ]
    }
   ],
   "source": [
    "# subset on sex \"both\" and prevalence\n",
    "\n",
    "meas_5_both = measurements[(measurements[\"x_sex\"] == 0) & (measurements[\"measure_id\"] == 5)]\n",
    "\n",
    "print(\"measurements subset: sex 'both' and prevalence\")\n",
    "print(meas_5_both.shape)\n",
    "print()\n",
    "\n",
    "print(\"avg_time\")\n",
    "tm5 = meas_5_both[\"avg_time\"].unique()\n",
    "tm5l = tm5.tolist()\n",
    "tm5l.sort()\n",
    "print(tm5l)\n",
    "print()\n",
    "\n",
    "print(\"avg_age\")\n",
    "am5 = meas_5_both[\"avg_age\"].unique()\n",
    "am5l = am5.tolist()\n",
    "am5l.sort()\n",
    "print(am5l)\n",
    "print()"
   ]
  },
  {
   "cell_type": "markdown",
   "metadata": {},
   "source": [
    "## Examples:  matching covariate values with measurement data"
   ]
  },
  {
   "cell_type": "markdown",
   "metadata": {},
   "source": [
    "Case 1: the covariate is not a by_age covariate (in which case there is only one \"age\" in the data, age_group = 22 or age_group = 27) and exists for more than one year.  A 1D linear interpolation is used over time."
   ]
  },
  {
   "cell_type": "code",
   "execution_count": 150,
   "metadata": {},
   "outputs": [],
   "source": [
    "# this is not the case for covariate 26, it is by_age"
   ]
  },
  {
   "cell_type": "markdown",
   "metadata": {},
   "source": [
    "Case 2: the covariate exists for only one year and for more than one age.  A 1D linear interpolation is used over age."
   ]
  },
  {
   "cell_type": "code",
   "execution_count": 151,
   "metadata": {},
   "outputs": [
    {
     "name": "stdout",
     "output_type": "stream",
     "text": [
      "covariate_column_2003 shape \n",
      " (275800,)\n",
      "\n"
     ]
    }
   ],
   "source": [
    "# subset covariate 26 data for the example, by selecting out only year 2003\n",
    "cov_col_2003 = assign_interpolated_covariate_values(measurements, ccov_ranges_df_2003)\n",
    "\n",
    "print(f\"covariate_column_2003 shape \\n {cov_col_2003.shape}\")\n",
    "print()"
   ]
  },
  {
   "cell_type": "markdown",
   "metadata": {},
   "source": [
    "Case 3: the covariate has multiple age_group values and multiple year values.  A 2D linear \n",
    "    interpolation is used."
   ]
  },
  {
   "cell_type": "code",
   "execution_count": null,
   "metadata": {},
   "outputs": [],
   "source": [
    "# use covariate_column computed above\n"
   ]
  },
  {
   "cell_type": "markdown",
   "metadata": {},
   "source": [
    "Case 4: the covariate is not by_sex.  A single interpolator is used for female, male, and \n",
    "    both_sexes measurement values."
   ]
  },
  {
   "cell_type": "code",
   "execution_count": null,
   "metadata": {},
   "outputs": [],
   "source": [
    "# covariate 26 is by_sex"
   ]
  },
  {
   "cell_type": "markdown",
   "metadata": {},
   "source": [
    "Case 5: the covariate is by_sex. Three separate interpolators are created - one for females, one for males, and the average of the male and female values for both_sexes (the covariate data will exist for males and females, but not for both)"
   ]
  },
  {
   "cell_type": "code",
   "execution_count": 152,
   "metadata": {},
   "outputs": [],
   "source": [
    "# this is true for covariate 26"
   ]
  },
  {
   "cell_type": "markdown",
   "metadata": {},
   "source": [
    "Case 6: measurement value has an age interval which does not overlap with the age intervals available in the covariate data, the covariate value is assigned missing.  For example, the covariate might apply only to adults, and not to children.  "
   ]
  },
  {
   "cell_type": "code",
   "execution_count": 160,
   "metadata": {},
   "outputs": [
    {
     "name": "stdout",
     "output_type": "stream",
     "text": [
      "cumumlative cigs for 20 yrs, for avg age 3 \n",
      " (76, 13)\n",
      "\n",
      "min cov 0.0\n",
      "max cov 0.0\n"
     ]
    }
   ],
   "source": [
    "# Q: is this true for covariate 26? \n",
    "# A: data exists where you might not expect it, but the value is zero\n",
    "\n",
    "ccov_age_3 = ccov_ranges_df[ccov_ranges_df['avg_age'] == 3]\n",
    "print(f\"cumumlative cigs for 20 yrs, for avg age 3 \\n {ccov_age_3.shape}\")\n",
    "print()\n",
    "print(f\"min cov value {ccov_age_3['mean_value'].min()}\")\n",
    "print(f\"max cov value {ccov_age_3['mean_value'].max()}\")\n",
    "      "
   ]
  },
  {
   "cell_type": "markdown",
   "metadata": {},
   "source": [
    "Case 7: the measurement value has a year which falls outside the covariate interpolation grid, an extrapolated value will be assigned. "
   ]
  },
  {
   "cell_type": "code",
   "execution_count": 161,
   "metadata": {},
   "outputs": [],
   "source": [
    "# the measurement data has a number of years before 1980 where the covariate data begins"
   ]
  },
  {
   "cell_type": "markdown",
   "metadata": {},
   "source": [
    "plot experiments"
   ]
  },
  {
   "cell_type": "code",
   "execution_count": 165,
   "metadata": {},
   "outputs": [
    {
     "name": "stdout",
     "output_type": "stream",
     "text": [
      "(874, 13)\n",
      "(874, 13)\n",
      "meas_ss_405: (7, 40)\n",
      "(7, 40)\n",
      "1389      2003\n",
      "40789     2003\n",
      "80189     2003\n",
      "119589    2003\n",
      "158989    2003\n",
      "198389    2003\n",
      "237789    2003\n",
      "Name: time_lower, dtype: int64\n",
      "1389      2003\n",
      "40789     2003\n",
      "80189     2003\n",
      "119589    2003\n",
      "158989    2003\n",
      "198389    2003\n",
      "237789    2003\n",
      "Name: time_upper, dtype: int64\n",
      "cov_m_2003: (23, 13)\n",
      "cov_m_2002: (23, 13)\n",
      "cov_f_2003: (23, 13)\n",
      "cov_f_2002: (23, 13)\n",
      "meas_2003 shape: (91, 40)\n",
      "meas_2003 40.5: \n",
      "1389      366.877726\n",
      "40789     366.877726\n",
      "80189     366.877726\n",
      "119589    366.877726\n",
      "158989    366.877726\n",
      "198389    366.877726\n",
      "237789    366.877726\n",
      "Name: covariate_col, dtype: float64\n"
     ]
    },
    {
     "data": {
      "image/png": "[encoded data removed]",
      "text/plain": [
       "<Figure size 432x288 with 1 Axes>"
      ]
     },
     "metadata": {
      "needs_background": "light"
     },
     "output_type": "display_data"
    },
    {
     "data": {
      "image/png": "[encoded data removed]",
      "text/plain": [
       "<Figure size 432x288 with 1 Axes>"
      ]
     },
     "metadata": {
      "needs_background": "light"
     },
     "output_type": "display_data"
    },
    {
     "data": {
      "image/png": "[encoded data removed]",
      "text/plain": [
       "<Figure size 432x288 with 1 Axes>"
      ]
     },
     "metadata": {
      "needs_background": "light"
     },
     "output_type": "display_data"
    },
    {
     "data": {
      "image/png": "[encoded data removed]",
      "text/plain": [
       "<Figure size 432x288 with 1 Axes>"
      ]
     },
     "metadata": {
      "needs_background": "light"
     },
     "output_type": "display_data"
    }
   ],
   "source": [
    "# Plot Covariate Value by Age by Sex\n",
    "\n",
    "#fig, ax = plt.subplots()\n",
    "\n",
    "cov_f = ccov_ranges_df[ccov_ranges_df[\"x_sex\"] == -0.5]\n",
    "cov_m = ccov_ranges_df[ccov_ranges_df[\"x_sex\"] == 0.5]\n",
    "\n",
    "#meas = measurements.iloc[0][\"age_lower\"]\n",
    "meas = meas_5_both[\"age_lower\"]\n",
    "meas_5_both[\"avg_age\"] = meas_5_both[[\"age_lower\", \"age_upper\"]].mean(axis=1)\n",
    "cc = meas_5_both[\"covariate_col\"]\n",
    "\n",
    "print(cov_f.shape)\n",
    "print(cov_m.shape)\n",
    "\n",
    "f_age = cov_f[[\"age_lower\", \"age_upper\"]].mean(axis=1)\n",
    "f_covariate = cov_f[\"mean_value\"]\n",
    "\n",
    "m_age = cov_m[[\"age_lower\", \"age_upper\"]].mean(axis=1)\n",
    "m_covariate = cov_m[\"mean_value\"]\n",
    "\n",
    "plt.figure(1)\n",
    "\n",
    "plt.plot(f_age, f_covariate, 'bo')\n",
    "plt.plot(meas, cc, \"ro\")\n",
    "\n",
    "\n",
    "plt.xlabel(\"age (years)\")\n",
    "plt.ylabel(covariate_name)\n",
    "plt.title(f\"women, assigned=red\")\n",
    "\n",
    "#plt.set(xlabel='age (years)', ylabel=covariate_name,\n",
    "#       title=f\"{covariate_name} by age for women\")\n",
    "\n",
    "plt.figure(2)\n",
    "\n",
    "plt.plot(m_age, m_covariate, 'go')\n",
    "\n",
    "# print(f\"meas: {meas}\")\n",
    "# print(f\"cc: {cc}\")\n",
    "plt.plot(meas, cc, \"ro\")\n",
    "\n",
    "plt.xlabel(\"age (years)\")\n",
    "plt.ylabel(covariate_name)\n",
    "plt.title(f\"men, assigned=red\")\n",
    "\n",
    "#plt.set(xlabel='age (years)', ylabel=covariate_name,\n",
    "#       title=f\"{covariate_name} by age for men\")\n",
    "\n",
    "meas_ss = meas_5_both[(meas_5_both[\"covariate_col\"] < 500) & (meas_5_both[\"avg_age\"] == 40.5)]\n",
    "meas_ss_405 = meas_5_both[meas_5_both[\"avg_age\"] == 40.5]\n",
    "\n",
    "print(f\"meas_ss_405: {meas_ss_405.shape}\")\n",
    "print(meas_ss.shape)\n",
    "print(meas_ss[\"time_lower\"])\n",
    "print(meas_ss[\"time_upper\"])\n",
    "\n",
    "plt.figure(3)\n",
    "\n",
    "\n",
    "cov_m_2003 = cov_m[(cov_m[\"time_lower\"] == 2003) & (cov_m[\"time_upper\"] == 2004)]\n",
    "print(f\"cov_m_2003: {cov_m_2003.shape}\")\n",
    "\n",
    "cov_m_2002 = cov_m[(cov_m[\"time_lower\"] == 2002) & (cov_m[\"time_upper\"] == 2003)]\n",
    "print(f\"cov_m_2002: {cov_m_2002.shape}\")\n",
    "\n",
    "\n",
    "cov_f_2003 = cov_f[(cov_f[\"time_lower\"] == 2003) & (cov_f[\"time_upper\"] == 2004)]\n",
    "print(f\"cov_f_2003: {cov_f_2003.shape}\")\n",
    "\n",
    "cov_f_2002 = cov_f[(cov_f[\"time_lower\"] == 2002) & (cov_f[\"time_upper\"] == 2003)]\n",
    "print(f\"cov_f_2002: {cov_f_2002.shape}\")\n",
    "\n",
    "\n",
    "m_age_2003 = cov_m_2003[[\"age_lower\", \"age_upper\"]].mean(axis=1)\n",
    "m_covariate_2003 = cov_m_2003[\"mean_value\"]\n",
    "\n",
    "m_age_2002 = cov_m_2002[[\"age_lower\", \"age_upper\"]].mean(axis=1)\n",
    "m_covariate_2002 = cov_m_2002[\"mean_value\"]\n",
    "\n",
    "\n",
    "f_age_2003 = cov_f_2003[[\"age_lower\", \"age_upper\"]].mean(axis=1)\n",
    "f_covariate_2003 = cov_f_2003[\"mean_value\"]\n",
    "\n",
    "f_age_2002 = cov_f_2002[[\"age_lower\", \"age_upper\"]].mean(axis=1)\n",
    "f_covariate_2002 = cov_f_2002[\"mean_value\"]\n",
    "\n",
    "\n",
    "plt.plot(m_age_2003, m_covariate_2003, \"go\")\n",
    "plt.plot(f_age_2003, f_covariate_2003, \"bo\")\n",
    "\n",
    "meas_2003 = meas_5_both[(meas_5_both[\"time_lower\"]==2003) & (meas_5_both[\"time_upper\"]==2003)]\n",
    "print(f\"meas_2003 shape: {meas_2003.shape}\")\n",
    "meas_2003_405 = meas_2003[meas_2003[\"avg_age\"]==40.5]\n",
    "print(f\"meas_2003 40.5: \\n{meas_2003_405['covariate_col']}\")\n",
    "\n",
    "plt.plot(meas_2003[\"avg_age\"], meas_2003[\"covariate_col\"], \"ro\")\n",
    "\n",
    "plt.xlabel(\"age (years)\")\n",
    "plt.ylabel(covariate_name)\n",
    "plt.title(f\"2003, men=green, women=blue, assigned=red\")\n",
    "      \n",
    "      \n",
    "plt.figure(4)\n",
    "\n",
    "plt.plot(m_age_2002, m_covariate_2002, \"go\")\n",
    "plt.plot(f_age_2002, f_covariate_2002, \"bo\")\n",
    "\n",
    "plt.plot(meas_2003[\"avg_age\"], meas_2003[\"covariate_col\"], \"ro\")\n",
    "\n",
    "plt.xlabel(\"age (years)\")\n",
    "plt.ylabel(covariate_name)\n",
    "plt.title(f\"2002, men=green, women=blue, assigned=red\")\n",
    "      \n",
    "\n",
    "plt.show()\n",
    "\n"
   ]
  },
  {
   "cell_type": "code",
   "execution_count": null,
   "metadata": {
    "collapsed": true
   },
   "outputs": [],
   "source": []
  }
 ],
 "metadata": {
  "kernelspec": {
   "display_name": "Python 3",
   "language": "python",
   "name": "python3"
  },
  "language_info": {
   "codemirror_mode": {
    "name": "ipython",
    "version": 3
   },
   "file_extension": ".py",
   "mimetype": "text/x-python",
   "name": "python",
   "nbconvert_exporter": "python",
   "pygments_lexer": "ipython3",
   "version": "3.6.3"
  }
 },
 "nbformat": 4,
 "nbformat_minor": 2
}
